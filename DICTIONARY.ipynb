{
 "cells": [
  {
   "cell_type": "markdown",
   "metadata": {},
   "source": [
    "# CONSTRUCTION OF DICTIONARY"
   ]
  },
  {
   "cell_type": "code",
   "execution_count": 13,
   "metadata": {},
   "outputs": [
    {
     "data": {
      "text/plain": [
       "'value2'"
      ]
     },
     "execution_count": 13,
     "metadata": {},
     "output_type": "execute_result"
    }
   ],
   "source": [
    "# Make a dictionary with {} and : to signify a key and a value\n",
    "my_dict = {'key1':'value1','key2':'value2'}\n",
    "# Call values by their key\n",
    "my_dict['key2']"
   ]
  },
  {
   "cell_type": "code",
   "execution_count": 14,
   "metadata": {},
   "outputs": [
    {
     "data": {
      "text/plain": [
       "['item0', 'item1', 'item2']"
      ]
     },
     "execution_count": 14,
     "metadata": {},
     "output_type": "execute_result"
    }
   ],
   "source": [
    "my_dict = {'key1':123,'key2':[12,23,33],'key3':['item0','item1','item2']}\n",
    "# Let's call items from the dictionary\n",
    "my_dict['key3']"
   ]
  },
  {
   "cell_type": "code",
   "execution_count": 15,
   "metadata": {},
   "outputs": [
    {
     "data": {
      "text/plain": [
       "'item0'"
      ]
     },
     "execution_count": 15,
     "metadata": {},
     "output_type": "execute_result"
    }
   ],
   "source": [
    "# Can call an index on that value\n",
    "my_dict['key3'][0]"
   ]
  },
  {
   "cell_type": "code",
   "execution_count": 16,
   "metadata": {},
   "outputs": [
    {
     "data": {
      "text/plain": [
       "'ITEM0'"
      ]
     },
     "execution_count": 16,
     "metadata": {},
     "output_type": "execute_result"
    }
   ],
   "source": [
    "# Can then even call methods on that value\n",
    "my_dict['key3'][0].upper()"
   ]
  },
  {
   "cell_type": "code",
   "execution_count": 17,
   "metadata": {},
   "outputs": [
    {
     "data": {
      "text/plain": [
       "123"
      ]
     },
     "execution_count": 17,
     "metadata": {},
     "output_type": "execute_result"
    }
   ],
   "source": [
    "my_dict['key1']"
   ]
  },
  {
   "cell_type": "code",
   "execution_count": 18,
   "metadata": {},
   "outputs": [],
   "source": [
    "# Subtract 123 from the value\n",
    "my_dict['key1'] = my_dict['key1'] - 123"
   ]
  },
  {
   "cell_type": "code",
   "execution_count": 19,
   "metadata": {},
   "outputs": [
    {
     "data": {
      "text/plain": [
       "0"
      ]
     },
     "execution_count": 19,
     "metadata": {},
     "output_type": "execute_result"
    }
   ],
   "source": [
    "#Check\n",
    "my_dict['key1']"
   ]
  },
  {
   "cell_type": "code",
   "execution_count": 21,
   "metadata": {},
   "outputs": [
    {
     "data": {
      "text/plain": [
       "-123"
      ]
     },
     "execution_count": 21,
     "metadata": {},
     "output_type": "execute_result"
    }
   ],
   "source": [
    "# Subtract 123 from the value\n",
    "my_dict['key1'] -= 123 \n",
    "my_dict['key1'] "
   ]
  },
  {
   "cell_type": "code",
   "execution_count": 22,
   "metadata": {},
   "outputs": [
    {
     "data": {
      "text/plain": [
       "{'animal': 'Dog', 'answer': 42}"
      ]
     },
     "execution_count": 22,
     "metadata": {},
     "output_type": "execute_result"
    }
   ],
   "source": [
    "# Create a new dictionary\n",
    "d = {}\n",
    "# Create a new key through assignment\n",
    "d['animal'] = 'Dog'\n",
    "# Can do this with any object\n",
    "d['answer'] = 42\n",
    "#Show\n",
    "d"
   ]
  },
  {
   "cell_type": "markdown",
   "metadata": {},
   "source": [
    "# MORE OF DICTIONARY"
   ]
  },
  {
   "cell_type": "code",
   "execution_count": null,
   "metadata": {
    "colab": {
     "base_uri": "https://localhost:8080/"
    },
    "id": "8k7r0uUjpMVO",
    "outputId": "74b038ce-09d3-433b-cfe0-44429f9d3ce2"
   },
   "outputs": [
    {
     "name": "stdout",
     "output_type": "stream",
     "text": [
      "Ian\n",
      "219\n",
      "199\n",
      "Axe\n"
     ]
    }
   ],
   "source": [
    "myDictionary = {\"name\" : \"Ian\", \"health\": 219, \"strength\": 199, \"equipped\": \"Axe\"}\n",
    "for i in myDictionary:\n",
    "  print(myDictionary[i])\n"
   ]
  },
  {
   "cell_type": "code",
   "execution_count": null,
   "metadata": {
    "colab": {
     "base_uri": "https://localhost:8080/"
    },
    "id": "ZCiX_qqSpbJ9",
    "outputId": "decc0846-c912-4671-f952-562f3c8fae11"
   },
   "outputs": [
    {
     "name": "stdout",
     "output_type": "stream",
     "text": [
      "Ian\n",
      "219\n",
      "199\n",
      "Axe\n"
     ]
    }
   ],
   "source": [
    "myDictionary = {\"name\" : \"Ian\", \"health\": 219, \"strength\": 199, \"equipped\": \"Axe\"}\n",
    "\n",
    "for value in myDictionary.values():\n",
    "  print(value)\n"
   ]
  },
  {
   "cell_type": "markdown",
   "metadata": {
    "id": "V4rhOtD4pmzJ"
   },
   "source": [
    "\n",
    "\n",
    "```\n",
    "👉 The .items() function returns the key name and value. Note that I've\n",
    "supplied the loop with two arguments: 'name' and 'value'\n",
    "\n",
    "This example will just output the names and values using an fString.\n",
    "```\n",
    "\n"
   ]
  },
  {
   "cell_type": "code",
   "execution_count": null,
   "metadata": {
    "colab": {
     "base_uri": "https://localhost:8080/"
    },
    "id": "Jg2hYWtrpxMZ",
    "outputId": "4ad66c17-86aa-4c8d-c096-9b6e61a04249"
   },
   "outputs": [
    {
     "name": "stdout",
     "output_type": "stream",
     "text": [
      "name:Ian\n",
      "health:219\n",
      "strength:199\n",
      "equipped:Axe\n"
     ]
    }
   ],
   "source": [
    "myDictionary = {\"name\" : \"Ian\", \"health\": 219, \"strength\": 199, \"equipped\": \"Axe\"}\n",
    "\n",
    "for name,value in myDictionary.items():\n",
    "  print(f\"{name}:{value}\")"
   ]
  },
  {
   "cell_type": "markdown",
   "metadata": {
    "id": "bQAiyb5pp6MV"
   },
   "source": [
    "\n",
    "\n",
    "```\n",
    "Let's go one step further and use some if statements inside the loop.\n",
    "👉 This example makes a comment about the strength key.\n",
    "```\n",
    "\n"
   ]
  },
  {
   "cell_type": "code",
   "execution_count": null,
   "metadata": {
    "colab": {
     "base_uri": "https://localhost:8080/"
    },
    "id": "M2aHJplcqBi2",
    "outputId": "d1b34f80-2447-4db0-b8f2-75f27b262f29"
   },
   "outputs": [
    {
     "name": "stdout",
     "output_type": "stream",
     "text": [
      "name:Ian\n",
      "health:219\n",
      "strength:199\n",
      "Whoa, SO STRONG!\n",
      "equipped:Axe\n"
     ]
    }
   ],
   "source": [
    "myDictionary = {\"name\" : \"Ian\", \"health\": 219, \"strength\": 199, \"equipped\": \"Axe\"}\n",
    "\n",
    "for name,value in myDictionary.items():\n",
    "  print(f\"{name}:{value}\")\n",
    "\n",
    "  if (name == \"strength\"):\n",
    "    print(\"Whoa, SO STRONG!\")"
   ]
  },
  {
   "cell_type": "markdown",
   "metadata": {
    "id": "WbVNrFeeqOXt"
   },
   "source": [
    "\n",
    "\n",
    "```\n",
    "👉This example uses nested if statements\n",
    "to react to the key name and the value stored within it.\n",
    "```\n",
    "\n"
   ]
  },
  {
   "cell_type": "code",
   "execution_count": null,
   "metadata": {
    "colab": {
     "base_uri": "https://localhost:8080/"
    },
    "id": "-UFhx5npqRwt",
    "outputId": "82f470ba-f8fd-4f8b-97f8-acd9a76a6387"
   },
   "outputs": [
    {
     "name": "stdout",
     "output_type": "stream",
     "text": [
      "name:David the Mildy Terrifying\n",
      "health:186\n",
      "strength:4\n",
      "Looks like you skipped leg day, arm day, chest day and, well, gym day entirely bro!\n",
      "equipped:l33t haxx0r p0werz\n"
     ]
    }
   ],
   "source": [
    "myDictionary = {\"name\" : \"David the Mildy Terrifying\", \"health\": 186, \"strength\": 4, \"equipped\":\"l33t haxx0r p0werz\"}\n",
    "\n",
    "for name,value in myDictionary.items():\n",
    "  print(f\"{name}:{value}\")\n",
    "\n",
    "  if (name == \"strength\"):\n",
    "    if value > 100:\n",
    "      print(\"Whoa, SO STRONG\")\n",
    "    else:\n",
    "      print(\"Looks like you skipped leg day, arm day, chest day and, well, gym day entirely bro!\")"
   ]
  },
  {
   "cell_type": "code",
   "execution_count": null,
   "metadata": {
    "colab": {
     "base_uri": "https://localhost:8080/"
    },
    "id": "lMzkns_4BsWb",
    "outputId": "7271084f-afb0-4ee9-e573-3d5fb5194442"
   },
   "outputs": [
    {
     "name": "stdout",
     "output_type": "stream",
     "text": [
      "Address: 123 Main Street\n"
     ]
    }
   ],
   "source": [
    "d = {'a':123,'b':456}\n",
    "\n",
    "print(f\"Address: {d['a']} Main Street\")"
   ]
  },
  {
   "cell_type": "markdown",
   "metadata": {},
   "source": [
    "# NESTED "
   ]
  },
  {
   "cell_type": "code",
   "execution_count": 33,
   "metadata": {},
   "outputs": [],
   "source": [
    "# Dictionary nested inside a dictionary nested inside a dictionary\n",
    "d = {'key1':{'nestkey':{'subnestkey':'value'}}}"
   ]
  },
  {
   "cell_type": "code",
   "execution_count": 34,
   "metadata": {},
   "outputs": [
    {
     "data": {
      "text/plain": [
       "'value'"
      ]
     },
     "execution_count": 34,
     "metadata": {},
     "output_type": "execute_result"
    }
   ],
   "source": [
    "# Keep calling the keys\n",
    "d['key1']['nestkey']['subnestkey']"
   ]
  },
  {
   "cell_type": "code",
   "execution_count": 35,
   "metadata": {},
   "outputs": [],
   "source": [
    "# Create a typical dictionary\n",
    "d = {'key1':1,'key2':2,'key3':3}\n"
   ]
  },
  {
   "cell_type": "code",
   "execution_count": 36,
   "metadata": {},
   "outputs": [
    {
     "data": {
      "text/plain": [
       "dict_keys(['key1', 'key2', 'key3'])"
      ]
     },
     "execution_count": 36,
     "metadata": {},
     "output_type": "execute_result"
    }
   ],
   "source": [
    "# Method to return a list of all keys \n",
    "d.keys()\n"
   ]
  },
  {
   "cell_type": "code",
   "execution_count": 37,
   "metadata": {},
   "outputs": [
    {
     "data": {
      "text/plain": [
       "dict_values([1, 2, 3])"
      ]
     },
     "execution_count": 37,
     "metadata": {},
     "output_type": "execute_result"
    }
   ],
   "source": [
    "# Method to grab all values\n",
    "d.values()\n"
   ]
  },
  {
   "cell_type": "code",
   "execution_count": 38,
   "metadata": {},
   "outputs": [
    {
     "data": {
      "text/plain": [
       "dict_items([('key1', 1), ('key2', 2), ('key3', 3)])"
      ]
     },
     "execution_count": 38,
     "metadata": {},
     "output_type": "execute_result"
    }
   ],
   "source": [
    "# Method to return tuples of all items \n",
    "d.items()"
   ]
  }
 ],
 "metadata": {
  "colab": {
   "provenance": []
  },
  "kernelspec": {
   "display_name": "Python 3 (ipykernel)",
   "language": "python",
   "name": "python3"
  },
  "language_info": {
   "codemirror_mode": {
    "name": "ipython",
    "version": 3
   },
   "file_extension": ".py",
   "mimetype": "text/x-python",
   "name": "python",
   "nbconvert_exporter": "python",
   "pygments_lexer": "ipython3",
   "version": "3.11.4"
  }
 },
 "nbformat": 4,
 "nbformat_minor": 1
}
